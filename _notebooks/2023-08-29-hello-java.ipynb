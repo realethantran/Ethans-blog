{
 "cells": [
  {
   "cell_type": "markdown",
   "metadata": {},
   "source": [
    "---\n",
    "toc: true\n",
    "comments: true\n",
    "layout: post\n",
    "title: Java Hello\n",
    "description: \n",
    "type: hacks\n",
    "courses: { csse: {week: 1}, csp: {week: 0, categories: []}, csa: {week: 0} }\n",
    "\n",
    "---"
   ]
  },
  {
   "cell_type": "markdown",
   "metadata": {},
   "source": [
    "The beginning of the code defines the SuperHero class with private instance variables. The SuperHero class has a default constructor that initializes the instance variables to empty values."
   ]
  },
  {
   "cell_type": "code",
   "execution_count": 14,
   "metadata": {},
   "outputs": [],
   "source": [
    "// class definition for SuperHero\n",
    "public class SuperHero {\n",
    "    // private instance variables\n",
    "    private String Name;\n",
    "    private String Affiliation;\n",
    "    private String SecretIdentity;\n",
    "    private String Powers;\n",
    "\n",
    "    // constructor w/o parameters\n",
    "    public SuperHero() {\n",
    "        Name = \"\";\n",
    "        Affiliation = \"\";\n",
    "        SecretIdentity = \"\";\n",
    "        Powers = \"\";\n",
    "    }\n",
    "\n",
    "    // setters to set the values of instance variables\n",
    "    public void setName(String name) {\n",
    "        Name = name;\n",
    "    }\n",
    "\n",
    "    public void setAffiliation(String affiliation) {\n",
    "        Affiliation = affiliation;\n",
    "    }\n",
    "\n",
    "    public void setSecretIdentity(String secretIdentity) {\n",
    "        SecretIdentity = secretIdentity;\n",
    "    }\n",
    "\n",
    "    public void setPowers(String powers) {\n",
    "        Powers = powers;\n",
    "    }\n",
    "\n",
    "    // getters to get the values of instance variables\n",
    "    public String getName() {\n",
    "        return Name;\n",
    "    }\n",
    "\n",
    "    public String getAffiliation() {\n",
    "        return Affiliation;\n",
    "    }\n",
    "\n",
    "    public String getSecretIdentity() {\n",
    "        return SecretIdentity;\n",
    "    }\n",
    "\n",
    "    public String getPowers() {\n",
    "        return Powers;\n",
    "    }\n",
    "\n",
    "    public static void main(String[] args) {\n",
    "        // create an instance using the default constructor\n",
    "        SuperHero batman = new SuperHero();\n",
    "        \n",
    "        // set the attributes of batman object\n",
    "        batman.setName(\"Batman\");\n",
    "        batman.setAffiliation(\"Justice League\");\n",
    "        batman.setSecretIdentity(\"Bruce Wayne\");\n",
    "        batman.setPowers(\"None\");\n",
    "\n",
    "        // use getters to  retrieve and print the values of the attributes\n",
    "        System.out.println(\"Name: \" + batman.getName());\n",
    "        System.out.println(\"Affiliation: \" + batman.getAffiliation());\n",
    "        System.out.println(\"Secret Identity: \" + batman.getSecretIdentity());\n",
    "        System.out.println(\"Powers: \" + batman.getPowers());\n",
    "    }\n",
    "}\n"
   ]
  },
  {
   "cell_type": "markdown",
   "metadata": {},
   "source": [
    "Using getters I can retrieve the values of instance variables. For example, here I am retrieving the name of the batman instance."
   ]
  },
  {
   "cell_type": "code",
   "execution_count": 16,
   "metadata": {},
   "outputs": [],
   "source": [
    "batman.getName();"
   ]
  },
  {
   "cell_type": "markdown",
   "metadata": {},
   "source": [
    "> Output\n",
    "\n",
    "Bruce Wayne"
   ]
  }
 ],
 "metadata": {
  "kernelspec": {
   "display_name": "Java",
   "language": "java",
   "name": "java"
  },
  "language_info": {
   "codemirror_mode": "java",
   "file_extension": ".jshell",
   "mimetype": "text/x-java-source",
   "name": "java",
   "pygments_lexer": "java",
   "version": "11.0.20+8-post-Ubuntu-1ubuntu120.04"
  },
  "orig_nbformat": 4
 },
 "nbformat": 4,
 "nbformat_minor": 2
}
