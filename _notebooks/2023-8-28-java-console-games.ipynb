{
 "cells": [
  {
   "cell_type": "markdown",
   "metadata": {},
   "source": [
    "---\n",
    "toc: true\n",
    "comments: true\n",
    "layout: post\n",
    "title: Java Console Games\n",
    "description: \n",
    "type: hacks\n",
    "courses: { csse: {week: 1}, csp: {week: 0, categories: []}, csa: {week: 0} }\n",
    "\n",
    "---"
   ]
  },
  {
   "cell_type": "code",
   "execution_count": 3,
   "metadata": {
    "vscode": {
     "languageId": "java"
    }
   },
   "outputs": [
    {
     "ename": "EvalException",
     "evalue": "Undefined cell magic 'java'",
     "output_type": "error",
     "traceback": [
      "\u001b[1m\u001b[31m---------------------------------------------------------------------------\u001b[0m",
      "\u001b[1m\u001b[31mio.github.spencerpark.jupyter.kernel.magic.registry.UndefinedMagicException: Undefined cell magic 'java'\u001b[0m",
      "\u001b[1m\u001b[31m\tat io.github.spencerpark.jupyter.kernel.magic.registry.Magics.applyCellMagic(Magics.java:34)\u001b[0m",
      "\u001b[1m\u001b[31m\tat io.github.spencerpark.ijava.runtime.Magics.cellMagic(Magics.java:31)\u001b[0m",
      "\u001b[1m\u001b[31m\tat .(#16:1)\u001b[0m"
     ]
    }
   ],
   "source": [
    "\n",
    "\n",
    "import java.util.Random;\n",
    "import java.util.Scanner;\n",
    "\n",
    "public class RockPaperScissors {\n",
    "    private static final String[] options = {\"rock\", \"paper\", \"scissors\"};\n",
    "\n",
    "    public static void play() {\n",
    "        Scanner scanner = new Scanner(System.in);\n",
    "        Random random = new Random();\n",
    "        \n",
    "        System.out.println(\"Rock Paper Scissors\");\n",
    "        System.out.println(\"Choose: 0 - Rock, 1 - Paper, 2 - Scissors\");\n",
    "        int userChoice = scanner.nextInt();\n",
    "        int computerChoice = random.nextInt(3);\n",
    "        \n",
    "        System.out.println(\"You chose: \" + options[userChoice]);\n",
    "        System.out.println(\"Computer chose: \" + options[computerChoice]);\n",
    "        \n",
    "        if (userChoice == computerChoice) {\n",
    "            System.out.println(\"It's a tie!\");\n",
    "        } else if ((userChoice == 0 && computerChoice == 2) ||\n",
    "                   (userChoice == 1 && computerChoice == 0) ||\n",
    "                   (userChoice == 2 && computerChoice == 1)) {\n",
    "            System.out.println(\"You win!\");\n",
    "        } else {\n",
    "            System.out.println(\"Computer wins!\");\n",
    "        }\n",
    "    }\n",
    "\n",
    "    public static void main(String[] args) {\n",
    "        play();\n",
    "    }\n",
    "}\n"
   ]
  }
 ],
 "metadata": {
  "kernelspec": {
   "display_name": "Java",
   "language": "java",
   "name": "java"
  },
  "language_info": {
   "codemirror_mode": "java",
   "file_extension": ".jshell",
   "mimetype": "text/x-java-source",
   "name": "Java",
   "pygments_lexer": "java",
   "version": "11.0.20+8-post-Ubuntu-1ubuntu120.04"
  },
  "orig_nbformat": 4
 },
 "nbformat": 4,
 "nbformat_minor": 2
}
