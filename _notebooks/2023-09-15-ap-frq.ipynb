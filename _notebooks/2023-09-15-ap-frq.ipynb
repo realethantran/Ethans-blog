{
 "cells": [
  {
   "cell_type": "markdown",
   "metadata": {},
   "source": [
    "---\n",
    "title: AP CSA FRQ\n",
    "description: 2022 Question 2\n",
    "layout: default\n",
    "courses: {csa: {week: 5}}\n",
    "type: hacks\n",
    "---"
   ]
  },
  {
   "cell_type": "markdown",
   "metadata": {},
   "source": [
    "## Textbook Class\n",
    "\n",
    "You will write a class Textbook, which is a subclass of Book.\n",
    "A Textbook has an edition number, which is a positive integer used to identify different versions of the book. The getBookInfo method, when callsed on a Textbook, returns a string that also includes the edition information, as shown in the example.\n",
    "Information about the book title and price must be maintained in the Book class. Information about the edition must be maintained in the Textbook class.\n",
    "The Textbook class contains an additional method, canSubstituteFor, which returns true if a Textbook is a valid substitue for another Textbook and returns false otherwise. The current Textbook is a valid substitute for the Textbook referenced by the parameter of the canSubstituteFor method if the two Textbook objects have the same title and if the edition of the current Textbook is greater than or equal to the edition of the parameter."
   ]
  },
  {
   "cell_type": "code",
   "execution_count": 2,
   "metadata": {},
   "outputs": [],
   "source": [
    "public class Book {\n",
    "    /** The title of the book */\n",
    "    private String title;\n",
    "    /** The price of the book */\n",
    "    private double price;\n",
    "    /** Creates a new Book with given title and price */\n",
    "    public Book(String bookTitle, double bookPrice) {\n",
    "        /* implementation not shown */\n",
    "    }\n",
    "    /* Returns title of the book */\n",
    "    public String getTitle() {\n",
    "        return title;\n",
    "    }\n",
    "    /* Returns a string containing the title and price of the book */\n",
    "    public String getBookInfo() {\n",
    "        return title + \"-\" + price;\n",
    "    }\n",
    "}"
   ]
  },
  {
   "cell_type": "code",
   "execution_count": 3,
   "metadata": {},
   "outputs": [],
   "source": [
    "public class Textbook extends Book {\n",
    "    private int edition;  // Edition number of the textbook\n",
    "\n",
    "    public Textbook(String bookTitle, double bookPrice, int edition) {\n",
    "        super(bookTitle, bookPrice);\n",
    "        this.edition = edition;\n",
    "    }\n",
    "\n",
    "    public int getEdition() {\n",
    "        return edition;\n",
    "    }\n",
    "\n",
    "    @Override\n",
    "    public String getBookInfo() {\n",
    "        return super.getBookInfo() + \" (Edition \" + edition + \")\";\n",
    "    }\n",
    "\n",
    "    public boolean canSubstituteFor(Textbook otherTextbook) {\n",
    "        return this.getTitle().equals(otherTextbook.getTitle()) && this.edition >= otherTextbook.getEdition();\n",
    "    }\n",
    "}"
   ]
  }
 ],
 "metadata": {
  "kernelspec": {
   "display_name": "Java",
   "language": "java",
   "name": "java"
  },
  "language_info": {
   "codemirror_mode": "java",
   "file_extension": ".jshell",
   "mimetype": "text/x-java-source",
   "name": "java",
   "pygments_lexer": "java",
   "version": "11.0.20+8-post-Ubuntu-1ubuntu120.04"
  },
  "orig_nbformat": 4
 },
 "nbformat": 4,
 "nbformat_minor": 2
}
