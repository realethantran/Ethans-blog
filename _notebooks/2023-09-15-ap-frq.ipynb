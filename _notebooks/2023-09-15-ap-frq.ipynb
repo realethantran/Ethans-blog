{
 "cells": [
  {
   "cell_type": "markdown",
   "metadata": {},
   "source": [
    "---\n",
    "toc: true\n",
    "comments: true\n",
    "layout: post\n",
    "title: AP CSA FRQ\n",
    "description: 2022 - Question 2\n",
    "type: hacks\n",
    "courses: {csa: {week: 4} }\n",
    "---"
   ]
  },
  {
   "cell_type": "markdown",
   "metadata": {},
   "source": [
    "## Textbook Class\n",
    "\n",
    "You will write a class Textbook, which is a subclass of Book.\n",
    "A Textbook has an edition number, which is a positive integer used to identify different versions of the book. The getBookInfo method, when called on a Textbook, returns a string that also includes the edition information, as shown in the example.\n",
    "Information about the book title and price must be maintained in the Book class. Information about the edition must be maintained in the Textbook class.\n",
    "The Textbook class contains an additional method, canSubstituteFor, which returns true if a Textbook is a valid substitute for another Textbook and returns false otherwise. The current Textbook is a valid substitute for the Textbook referenced by the parameter of the canSubstituteFor method if the two Textbook objects have the same title and if the edition of the current Textbook is greater than or equal to the edition of the parameter."
   ]
  },
  {
   "cell_type": "code",
   "execution_count": 10,
   "metadata": {},
   "outputs": [
    {
     "name": "stdout",
     "output_type": "stream",
     "text": [
      "Title: null\n",
      "Edition: 6\n",
      "Book Info: null-0.0 (Edition 6)\n",
      "\n",
      "Title: null\n",
      "Edition: 9\n",
      "Book Info: null-0.0 (Edition 9)\n"
     ]
    },
    {
     "ename": "EvalException",
     "evalue": "null",
     "output_type": "error",
     "traceback": [
      "\u001b[1m\u001b[31m---------------------------------------------------------------------------\u001b[0m",
      "\u001b[1m\u001b[31mjava.lang.NullPointerException: null\u001b[0m",
      "\u001b[1m\u001b[31m\tat Textbook.canSubstituteFor(#13:1)\u001b[0m",
      "\u001b[1m\u001b[31m\tat Main.main(#14:1)\u001b[0m",
      "\u001b[1m\u001b[31m\tat .(#18:1)\u001b[0m"
     ]
    }
   ],
   "source": [
    "public class Book {\n",
    "    /** The title of the book */\n",
    "    private String title;\n",
    "    /** The price of the book */\n",
    "    private double price;\n",
    "    /** Creates a new Book with given title and price */\n",
    "    public Book(String bookTitle, double bookPrice) {\n",
    "        /* implementation not shown */\n",
    "    }\n",
    "    /* Returns title of the book */\n",
    "    public String getTitle() {\n",
    "        return title;\n",
    "    }\n",
    "    /* Returns a string containing the title and price of the book */\n",
    "    public String getBookInfo() {\n",
    "        return title + \"-\" + price;\n",
    "    }\n",
    "}\n",
    "public class Textbook extends Book {\n",
    "    private int edition;  // Edition number of the textbook\n",
    "\n",
    "    public Textbook(String bookTitle, double bookPrice, int edition) {\n",
    "        super(bookTitle, bookPrice);\n",
    "        this.edition = edition;\n",
    "    }\n",
    "\n",
    "    public int getEdition() {\n",
    "        return edition;\n",
    "    }\n",
    "\n",
    "    @Override\n",
    "    public String getBookInfo() {\n",
    "        return super.getBookInfo() + \" (Edition \" + edition + \")\";\n",
    "    }\n",
    "\n",
    "    public boolean canSubstituteFor(Textbook otherTextbook) {\n",
    "        return this.getTitle().equals(otherTextbook.getTitle()) && this.edition >= otherTextbook.getEdition();\n",
    "    }\n",
    "}\n",
    "public class Main {\n",
    "    public static void main(String[] args) {\n",
    "        Textbook calculusTextbook = new Textbook(\"Calculus\", 119.25, 6);\n",
    "        System.out.println(\"Title: \" + calculusTextbook.getTitle());\n",
    "        System.out.println(\"Edition: \" + calculusTextbook.getEdition());\n",
    "        System.out.println(\"Book Info: \" + calculusTextbook.getBookInfo());\n",
    "\n",
    "        Textbook physicsTextbook = new Textbook(\"Physics\", 89.50, 9);\n",
    "        System.out.println(\"\\nTitle: \" + physicsTextbook.getTitle());\n",
    "        System.out.println(\"Edition: \" + physicsTextbook.getEdition());\n",
    "        System.out.println(\"Book Info: \" + physicsTextbook.getBookInfo());\n",
    "\n",
    "        System.out.println(\"\\nCan substitute for Physics textbook? \" + calculusTextbook.canSubstituteFor(physicsTextbook));\n",
    "\n",
    "        Textbook calculus26Textbook = new Textbook(\"Calculus\", 234.75, 12);\n",
    "        System.out.println(\"\\nCan substitute for Calculus (12th edition) textbook? \" + calculus26Textbook.canSubstituteFor(calculusTextbook));\n",
    "    }\n",
    "}\n",
    "Main.main(null)"
   ]
  },
  {
   "cell_type": "markdown",
   "metadata": {},
   "source": [
    "## Issue\n",
    "\n",
    "The title and bookTitle variables are not set to any specific values in the Book and Textbook classes. They are declared as private instance variables but are not assigned any values. Due to this, the output says null."
   ]
  },
  {
   "cell_type": "markdown",
   "metadata": {},
   "source": [
    "| Grading  | Points (0 or 1) | Points (0 or 1) |\n",
    "|----------|-----------------|---|\n",
    "| Point 1  | I declare class header that is not private and extends from class Book. | 1 |\n",
    "| Point 2  | I declare the constructor header that defines Textbook | 1 |\n",
    "| Point 3  | I used super for the first line | 0 |\n",
    "| Point 4  | I define the variable edition with private | 1 |\n",
    "| Point 5  | I define at least one of those headers with public | 1 |\n",
    "| Point 6  | I define getEdition that returns value of edition | 1 |\n",
    "| Point 7  | The canSubstituteFor method determines correctly | 1 |\n",
    "| Point 8  | I used super or define getBookInfo | 0 |\n",
    "| Point 9  | Even though I didn’t use super, I concatenate correctly and access title and price directly | 1 |\n",
    "\n",
    "Total: 7/9\n"
   ]
  },
  {
   "cell_type": "markdown",
   "metadata": {},
   "source": [
    "> Corrected Code"
   ]
  },
  {
   "cell_type": "code",
   "execution_count": 14,
   "metadata": {},
   "outputs": [
    {
     "name": "stdout",
     "output_type": "stream",
     "text": [
      "Title: Calculus\n",
      "Edition: 6\n",
      "Book Info: Calculus - $119.25 (Edition 6)\n",
      "\n",
      "Title: Physics\n",
      "Edition: 9\n",
      "Book Info: Physics - $89.5 (Edition 9)\n",
      "\n",
      "Can substitute for Physics textbook? false\n",
      "\n",
      "Can substitute for Calculus (12th edition) textbook? true\n"
     ]
    }
   ],
   "source": [
    "public class Book {\n",
    "    private String title;\n",
    "    private double price;\n",
    "\n",
    "    public Book(String bookTitle, double bookPrice) {\n",
    "        title = bookTitle;\n",
    "        price = bookPrice;\n",
    "    }\n",
    "\n",
    "    // method to get the title of the book\n",
    "    public String getTitle() {\n",
    "        return title;\n",
    "    }\n",
    "\n",
    "    // method to get the price of the book\n",
    "    public double getPrice() {\n",
    "        return price;\n",
    "    }\n",
    "\n",
    "    // method to get book information (title and price)\n",
    "    public String getBookInfo() {\n",
    "        return title + \" - $\" + price;\n",
    "    }\n",
    "}\n",
    "\n",
    "public class Textbook extends Book {\n",
    "    // private field to store the edition of the textbook\n",
    "    private int edition;\n",
    "\n",
    "    // constructor to initialize title, price, and edition\n",
    "    public Textbook(String bookTitle, double bookPrice, int edition) {\n",
    "        super(bookTitle, bookPrice);\n",
    "        this.edition = edition;\n",
    "    }\n",
    "    // method to get the edition of the textbook\n",
    "    public int getEdition() {\n",
    "        return edition;\n",
    "    }\n",
    "    // overridden method to get book information including edition (which is private)\n",
    "    @Override\n",
    "    public String getBookInfo() {\n",
    "        return super.getBookInfo() + \" (Edition \" + edition + \")\";\n",
    "    }\n",
    "    // method to check if this textbook can substitute for another textbook based on title and edition (displays either true or false)\n",
    "    public boolean canSubstituteFor(Textbook otherTextbook) {\n",
    "        return this.getTitle().equals(otherTextbook.getTitle()) && this.edition >= otherTextbook.getEdition();\n",
    "    }\n",
    "}\n",
    "public class Main {\n",
    "    public static void main(String[] args) {\n",
    "\n",
    "        // create a textbook instance for calculus\n",
    "        Textbook calculusTextbook = new Textbook(\"Calculus\", 119.25, 6);\n",
    "        System.out.println(\"Title: \" + calculusTextbook.getTitle());\n",
    "        System.out.println(\"Edition: \" + calculusTextbook.getEdition());\n",
    "        System.out.println(\"Book Info: \" + calculusTextbook.getBookInfo());\n",
    "        \n",
    "        // create a textbook instance for physics\n",
    "        Textbook physicsTextbook = new Textbook(\"Physics\", 89.50, 9);\n",
    "        System.out.println(\"\\nTitle: \" + physicsTextbook.getTitle());\n",
    "        System.out.println(\"Edition: \" + physicsTextbook.getEdition());\n",
    "        System.out.println(\"Book Info: \" + physicsTextbook.getBookInfo());\n",
    "\n",
    "        // check if the physics textbook can substitute for the calculus textbook\n",
    "        System.out.println(\"\\nCan substitute for Physics textbook? \" + calculusTextbook.canSubstituteFor(physicsTextbook));\n",
    "\n",
    "        // create a textbook instance for calculus, different edition\n",
    "        Textbook calculus26Textbook = new Textbook(\"Calculus\", 234.75, 12);\n",
    "\n",
    "        // check if the calculus textbook can substitute for the other calculus textbook\n",
    "        System.out.println(\"\\nCan substitute for Calculus (12th edition) textbook? \" + calculus26Textbook.canSubstituteFor(calculusTextbook));\n",
    "    }\n",
    "}\n",
    "Main.main(null)"
   ]
  }
 ],
 "metadata": {
  "kernelspec": {
   "display_name": "Java",
   "language": "java",
   "name": "java"
  },
  "language_info": {
   "codemirror_mode": "java",
   "file_extension": ".jshell",
   "mimetype": "text/x-java-source",
   "name": "java",
   "pygments_lexer": "java",
   "version": "11.0.20+8-post-Ubuntu-1ubuntu120.04"
  },
  "orig_nbformat": 4
 },
 "nbformat": 4,
 "nbformat_minor": 2
}
